{
 "cells": [
  {
   "cell_type": "code",
   "execution_count": 1,
   "id": "2d0c61a8",
   "metadata": {},
   "outputs": [],
   "source": [
    "import numpy as np\n",
    "import imf\n",
    "import random\n",
    "import matplotlib.pyplot as plt\n",
    "from scipy.integrate import quad"
   ]
  },
  {
   "cell_type": "markdown",
   "id": "3a8a5167",
   "metadata": {},
   "source": [
    "### m1: mass of primary star\n",
    "First, we draw the mass of the primary star $\\left(m_{\\mathrm{A}}\\right)$ of the system using a initial mass function (IMF), following https://github.com/keflavich/imf"
   ]
  },
  {
   "cell_type": "code",
   "execution_count": 6,
   "id": "0da5545f",
   "metadata": {},
   "outputs": [
    {
     "name": "stdout",
     "output_type": "stream",
     "text": [
      "Total cluster mass is 100000 (limit was 100000)\n"
     ]
    }
   ],
   "source": [
    "# mass primary star\n",
    "m1 = imf.make_cluster(100000, massfunc='chabrier', mmin=0.1, mmax=1.5)[:100000]\n",
    "m1 = np.sort(m1)\n",
    "num_m = len(np.where(m1 < 0.5)[0])\n",
    "num_fgk = 100000-num_m"
   ]
  },
  {
   "cell_type": "markdown",
   "id": "20ea6687",
   "metadata": {},
   "source": [
    "### oribital_period (unit: days)\n",
    "$$\n",
    "\\xi\\left(\\log P_b\\right) \\propto \\exp \\left\\{-\\left(\\log P_b-\\log \\overline{P_b}\\right)^2 / 2 \\sigma_{\\log P_b}^2\\right\\}\n",
    "$$\n",
    "- $\\overline{\\log P_b}=3.69$ and $\\sigma_{\\log P_b}=1.3$ for M-type primary stars\n",
    "- $\\overline{\\log P_b}=5.03$ and $\\sigma_{\\log P_b}=2.28$ for FGK type primary stars. \n",
    "- We use $m_{\\ell}=0.5 \\mathrm{M}_{\\odot}$ as a threshold value between M-type stars and stars of earlier type.  \n",
    "- In both cases we limit our draws in the [0,5] $\\log P_b$ interval for close binary\n",
    "\n",
    "Changes: instead of doing np.clip for [0,10], we generate a larger sample and cut it following the ratio of m dwarfs and fgk stars in primary mass function"
   ]
  },
  {
   "cell_type": "code",
   "execution_count": 7,
   "id": "2b1585fb",
   "metadata": {},
   "outputs": [],
   "source": [
    "# period\n",
    "log_mean_m = 3.69\n",
    "log_std_m = 1.3\n",
    "log_mean_fgk = 5.03\n",
    "log_std_fgk = 2.28\n",
    "log_p_m = np.random.normal(loc=log_mean_m, scale=log_std_m, size=200000)\n",
    "log_p_fgk = np.random.normal(loc=log_mean_fgk, scale=log_std_fgk, size=200000)\n",
    "log_p_m = log_p_m[np.where((log_p_m < 4.5) & (log_p_m > 0))]\n",
    "log_p_fgk = log_p_fgk[np.where((log_p_fgk < 4.5) & (log_p_fgk > 0))]\n",
    "log_p = np.concatenate((log_p_m[0:num_m],log_p_fgk[0:num_fgk]))\n",
    "period = 10**log_p"
   ]
  },
  {
   "cell_type": "code",
   "execution_count": 8,
   "id": "2566d88f",
   "metadata": {},
   "outputs": [
    {
     "data": {
      "text/plain": [
       "3.0836450815401744"
      ]
     },
     "execution_count": 8,
     "metadata": {},
     "output_type": "execute_result"
    }
   ],
   "source": [
    "np.mean(log_p)"
   ]
  },
  {
   "cell_type": "code",
   "execution_count": 9,
   "id": "104ffc13",
   "metadata": {},
   "outputs": [
    {
     "data": {
      "text/plain": [
       "5370.972605031261"
      ]
     },
     "execution_count": 9,
     "metadata": {},
     "output_type": "execute_result"
    }
   ],
   "source": [
    "np.mean(period)"
   ]
  },
  {
   "cell_type": "markdown",
   "id": "715fb833",
   "metadata": {},
   "source": [
    "### mass_ratio"
   ]
  },
  {
   "cell_type": "code",
   "execution_count": 10,
   "id": "3d145731",
   "metadata": {},
   "outputs": [],
   "source": [
    "mu = np.random.uniform(0.2, 0.5, 100000)"
   ]
  },
  {
   "cell_type": "code",
   "execution_count": 11,
   "id": "59cdbff1",
   "metadata": {},
   "outputs": [],
   "source": [
    "m2 = (mu * m1) / (1 - mu)\n",
    "q_mass = m2/m1"
   ]
  },
  {
   "cell_type": "markdown",
   "id": "b55a96a4",
   "metadata": {},
   "source": [
    "### Binary semi-major axis & mutural gravitational attraction (P)\n",
    "\n",
    "Given the masses of the two stars in a binary system, their semi-major axis (a), and eccentricity (e), you can calculate the period of their mutual gravitational attraction (P) using Kepler's third law:\n",
    "\n",
    "P^2 = 4π^2 a^3 / G (m1 + m2)\n",
    "\n",
    "where G is the gravitational constant, m1 and m2 are the masses of the stars, and a is the semi-major axis of their orbit.\n",
    "\n",
    "http://spiff.rit.edu/classes/phys440/lectures/kepler3/kepler3.html\n"
   ]
  },
  {
   "cell_type": "code",
   "execution_count": 13,
   "id": "5918eef2",
   "metadata": {},
   "outputs": [],
   "source": [
    "# semimajor axis\n",
    "G = 6.6743e-11   # gravitational constant in m^3 kg^-1 s^-2\n",
    "solar_mass = 1.98847e30   # mass of the Sun in kg\n",
    "M_total = solar_mass * (m1 + m2)   # total mass in kg\n",
    "p_sec = period * 86400   # orbital period in seconds\n",
    "au = 1.496e11\n",
    "ab = ((G * M_total * p_sec**2) / (4 * np.pi**2))**(1/3)   # semi-major axis in meters\n",
    "ab = ab/au"
   ]
  },
  {
   "cell_type": "markdown",
   "id": "52c54069",
   "metadata": {},
   "source": [
    "### binary_eccentricity\n",
    "\n",
    "We finally assign the orbital eccentricity, $e_b$, using another empirical distribution, $\\xi\\left(e_b\\right)$. The eccentricity distribution is strongly affected by the orbital period: for $P_b$ less than a certain value identified as the circularization period $P_{\\text {circ }}$ the orbits are circularized due to the long-term history of tidal interactions between the two stars. On the other hand, the eccentricity distribution shows a remarkably small dependence on the mass of the primary. For our calculation, we build a Gaussian distribution with $P_{\\text {circ }}=20$ days $\\left(\\log P_b=1.3\\right)$, the function will have the form:\n",
    "$$\n",
    "\\xi\\left(e_b\\right) \\propto \\exp \\left[-\\left(e_b-\\bar{e}\\right)^2 / 2 \\sigma_e^2\\right]\n",
    "$$\n",
    "$\\bar{e}=0.35$ and $\\sigma_e=0.2$ for all values of $P_b$ above 20 days. \n"
   ]
  },
  {
   "cell_type": "code",
   "execution_count": 14,
   "id": "a8462c25",
   "metadata": {},
   "outputs": [],
   "source": [
    "def generate_eccentricity(logPb):\n",
    "    sigma_e = 0.2\n",
    "    mean_e = 0.35\n",
    "    P_circ = 1.3\n",
    "    ecc = np.random.normal(loc=mean_e, scale=sigma_e, size=len(logPb))\n",
    "    ecc[ecc < 0] = 0\n",
    "    ecc[ecc > 0.8] = 0\n",
    "    ecc[logPb < P_circ] = 0\n",
    "    return ecc\n",
    "\n",
    "e = generate_eccentricity(log_p)"
   ]
  },
  {
   "cell_type": "markdown",
   "id": "954fa083",
   "metadata": {},
   "source": [
    "### Effective Temperature & Luminocity"
   ]
  },
  {
   "cell_type": "code",
   "execution_count": 16,
   "id": "fc2ad89f",
   "metadata": {},
   "outputs": [],
   "source": [
    "# unit: solar radius / Kelvin / solar luminosity\n",
    "# Stephan–Boltzmann relation\n",
    "R1 = m1**0.8\n",
    "R2 = m2**0.8\n",
    "T1 = (m1**0.505)*5780\n",
    "T2 = (m2**0.505)*5780\n",
    "L1 = (R1**2)*((T1/5780)**4)\n",
    "L2 = (R2**2)*((T2/5780)**4)"
   ]
  },
  {
   "cell_type": "markdown",
   "id": "36c4d724",
   "metadata": {},
   "source": [
    "### Boundaries of dynamical stability\n",
    "​\n",
    "The parameters $m_{\\mathrm{A}}, \\mu=m_{\\mathrm{B}} /\\left(m_{\\mathrm{A}}+m_{\\mathrm{B}}\\right), a_b$, and $e_b$, drawn for each binary systems are used to explore which regions of parameter space are consistent with the existence of stable planetary orbits. These authors derived empirical expressions for calculating the  **smallest circumbinary orbit** where fully-interacting particles survive the length of the integration ($10^5$ binary periods). The semi-major axis of such critical planetary orbits are approximated as functions of $e_b$ and $\\mu$. \n",
    "​\n",
    "In units of the binary semi-major axis, the semi-major axis of the smallest, stable P-type orbit is:\n",
    "$$\n",
    "a_p =(p + q* e_b - r * e_b^2 + s * \\mu+t * e_b \\mu - u * \\mu^2 - v * e_b^2 \\mu^2) * {a_b}\n",
    "$$\n",
    "​\n"
   ]
  },
  {
   "cell_type": "code",
   "execution_count": 17,
   "id": "f69377e5",
   "metadata": {},
   "outputs": [],
   "source": [
    "p = 1.6\n",
    "q = 5.1\n",
    "r = -2.22\n",
    "s = 4.12\n",
    "t = -4.27\n",
    "u = -5.09\n",
    "v = 4.61\n",
    "ap = (p + q*e + r*(e**2) + s*mu + t*e*mu + u*(mu**2) + v*(e**2)*(mu**2))*ab"
   ]
  },
  {
   "cell_type": "code",
   "execution_count": 19,
   "id": "10405c12",
   "metadata": {},
   "outputs": [
    {
     "name": "stdout",
     "output_type": "stream",
     "text": [
      "             m1        m2        r1        r2             p      logP  \\\n",
      "99995  1.499143  0.744782  1.382529  0.789993    968.399305  2.986054   \n",
      "99996  1.499151  0.775478  1.382535  0.815935  13209.871109  4.120899   \n",
      "99997  1.499396  0.900128  1.382716  0.919271   5180.128435  3.714341   \n",
      "99998  1.499426  1.403142  1.382739  1.311237  15081.272956  4.178438   \n",
      "99999  1.499546  0.545621  1.382827  0.615904   2182.506958  3.338956   \n",
      "\n",
      "              q        mu         e         ab        L1           t1  \\\n",
      "99995  0.496805  0.331910  0.427949   2.507870  4.330635  7091.343712   \n",
      "99996  0.517278  0.340925  0.139637  14.382524  4.330717  7091.362529   \n",
      "99997  0.600327  0.375128  0.358291   7.843947  4.333283  7091.948629   \n",
      "99998  0.935786  0.483414  0.356073  17.040620  4.333602  7092.021452   \n",
      "99999  0.363858  0.266786  0.000000   4.179708  4.334849  7092.306051   \n",
      "\n",
      "             L2           t2         ap  \n",
      "99995  0.344148  4980.838483   9.201869  \n",
      "99996  0.398328  5083.471203  41.551614  \n",
      "99997  0.683254  5480.896522  27.304182  \n",
      "99998  3.408065  6858.263205  56.886401  \n",
      "99999  0.111570  4256.552037   9.767468  \n"
     ]
    }
   ],
   "source": [
    "import pandas as pd\n",
    "# Create data frame\n",
    "data = {'m1':m1, 'm2':m2, 'r1':R1, 'r2':R2, 'p':period, 'logP': log_p,'q': q_mass, 'mu':mu, \\\n",
    "        'e': e, 'ab': ab, 'L1': L1,'t1':T1, 'L2':L2, 't2':T2,'ap':ap}\n",
    "# Create pandas DataFrame\n",
    "df = pd.DataFrame(data)\n",
    "# Print DataFrame\n",
    "print(df.tail())"
   ]
  },
  {
   "cell_type": "code",
   "execution_count": 20,
   "id": "99767e31",
   "metadata": {},
   "outputs": [
    {
     "data": {
      "image/png": "[encoded data removed]",
      "text/plain": [
       "<Figure size 1080x1080 with 15 Axes>"
      ]
     },
     "metadata": {
      "needs_background": "light"
     },
     "output_type": "display_data"
    }
   ],
   "source": [
    "import matplotlib.pyplot as plt\n",
    "import seaborn as sns\n",
    "\n",
    "# Set up the figure with subplots\n",
    "fig, axs = plt.subplots(nrows=5, ncols=3, figsize=(15, 15))\n",
    "fig.subplots_adjust(hspace=0.4)\n",
    "\n",
    "# Plot histograms for each column\n",
    "sns.histplot(df['m1'], ax=axs[0,0])\n",
    "sns.histplot(df['m2'], ax=axs[0,1])\n",
    "sns.histplot(df['r1'], ax=axs[0,2])\n",
    "sns.histplot(df['r2'], ax=axs[1,0])\n",
    "sns.histplot(df['p'], ax=axs[1,1])\n",
    "sns.histplot(df['logP'], ax=axs[1,2])\n",
    "sns.histplot(df['q'], ax=axs[2,0])\n",
    "sns.histplot(df['mu'], ax=axs[2,1])\n",
    "sns.histplot(df['e'], ax=axs[2,2])\n",
    "sns.histplot(df['ab'], ax=axs[3,0])\n",
    "sns.histplot(df['L1'], ax=axs[3,1])\n",
    "sns.histplot(df['t1'], ax=axs[3,2])\n",
    "sns.histplot(df['L2'], ax=axs[4,0])\n",
    "sns.histplot(df['t2'], ax=axs[4,1])\n",
    "sns.histplot(df['ap'], ax=axs[4,2])\n",
    "\n",
    "# Set titles for each subplot\n",
    "axs[0,0].set_title('m1')\n",
    "axs[0,1].set_title('m2')\n",
    "axs[0,2].set_title('r1')\n",
    "axs[1,0].set_title('r2')\n",
    "axs[1,1].set_title('p')\n",
    "axs[1,2].set_title('logP')\n",
    "axs[2,0].set_title('q')\n",
    "axs[2,1].set_title('mu')\n",
    "axs[2,2].set_title('e')\n",
    "axs[3,0].set_title('ab')\n",
    "axs[3,1].set_title('L1')\n",
    "axs[3,2].set_title('t1')\n",
    "axs[4,0].set_title('L2')\n",
    "axs[4,1].set_title('t2')\n",
    "axs[4,2].set_title('ap')\n",
    "\n",
    "# Show the plot\n",
    "plt.show()\n"
   ]
  },
  {
   "cell_type": "markdown",
   "id": "393b80dd",
   "metadata": {},
   "source": [
    "### Boundaries of insolation\n",
    "Parameters:\n",
    "- $L_i$ is the luminosity of each of the two stars $(i=1,2)$ \n",
    "- $r_{\\mathrm{p}-i}$ the distance between the planet and each star. \n",
    "- $w\\left(T_i, \\mathcal{R}\\right)$ is a spectral weight dependent on the effective temperature of each star, $T_i$, and on a set of atmospheric parameters, \n",
    "- $\\mathcal{R}_x$, that specify the radiative properties of the planetary atmosphere (e.g. clouds, atmospheric composition, stratification, surface pressure, etc.).\n",
    "\n",
    "To define the insolation boundaries in a binary system, we calculate at which distance from the stars, $r_{\\mathrm{p}-1}$ and $r_{\\mathrm{p}-2}$, the effective flux 15 matches the flux received by a planet at the inner and outer edge $(\\mathrm{x}=\\mathrm{in}$, out) of the classic HZ around a single star. \n",
    "\n",
    "In practice, we impose the condition: $F_{\\text {eff, } \\mathrm{x}}=L_{\\mathrm{Sun}} / l_{\\mathrm{x} \\text {-Sun }}^2$, where $l_{\\mathrm{x} \\text {-Sun }}$ is the inner or outer edge of the HZ around the Sun. \n",
    "\n",
    "We use the equation $w\\left(T_i, \\mathcal{R}_{\\mathrm{x}}\\right)=\\left[1+\\alpha_{\\mathrm{x}}\\left(T_i, \\mathcal{R}_{\\mathrm{x}}\\right) l_{\\mathrm{x}-\\mathrm{Sun}}^2\\right]^{-1}$, where $$\n",
    "\\alpha_{\\mathrm{x}}\\left(T_i, \\mathcal{R}_{\\mathrm{x}}\\right)=\\mathrm{a}_{\\mathrm{x}} \\tilde{T}_i+\\mathrm{b}_{\\mathrm{x}} \\tilde{T}_i^2+\\mathrm{c}_{\\mathrm{x}} \\tilde{T}_i^3+\\mathrm{d}_{\\mathrm{x}} \\tilde{T}_i^4\n",
    "$$\n",
    "with $\\tilde{T}_i=T_i-5780 \\mathrm{~K}$"
   ]
  },
  {
   "cell_type": "markdown",
   "id": "4f07c765",
   "metadata": {},
   "source": [
    "### Flux limits and coefficients \n",
    "\n",
    "Fluxes are in units of the mean orbital Earth insolation\n",
    "\n",
    "$$\n",
    "\\begin{array}{lcc}\n",
    "\\hline \\begin{array}{l}\n",
    "\\text { Constant } \\\\\n",
    "\\text { value }\n",
    "\\end{array} & \\begin{array}{c}\n",
    "\\text { Runaway } \\\\\n",
    "\\text { Greenhouse }\n",
    "\\end{array} & \\begin{array}{c}\n",
    "\\text { Maximum } \\\\\n",
    "\\text { Greenhouse }\n",
    "\\end{array} \\\\\n",
    "\\hline F_{\\mathrm{x}}\\left(\\mathrm{S}_{\\oplus}\\right) & 1.0385 & 0.3507 \\\\\n",
    "l_{\\mathrm{x} \\text {-Sun }}(\\mathrm{AU}) & 0.9813 & 1.6882 \\\\\n",
    "\\mathrm{a}_{\\mathrm{x}} & 1.2456 \\times 10^{-4} & 5.9578 \\times 10^{-5} \\\\\n",
    "\\mathrm{~b}_{\\mathrm{x}} & 1.4612 \\times 10^{-8} & 1.6707 \\times 10^{-9} \\\\\n",
    "\\mathrm{c}_{\\mathrm{x}} & -7.6345 \\times 10^{-12} & -3.0058 \\times 10^{-12} \\\\\n",
    "\\mathrm{~d}_{\\mathrm{x}} & -1.7511 \\times 10^{-15} & -5.1925 \\times 10^{-16} \\\\\n",
    "\\hline\n",
    "\\end{array}\n",
    "$$"
   ]
  },
  {
   "cell_type": "code",
   "execution_count": 20,
   "id": "f53d570d",
   "metadata": {},
   "outputs": [],
   "source": [
    "def alpha_x(T_i, R_x, a_x, b_x, c_x, d_x):\n",
    "    tilde_T_i = T_i - 5780\n",
    "    return a_x * tilde_T_i + b_x * tilde_T_i**2 + c_x * tilde_T_i**3 + d_x * tilde_T_i**4\n",
    "\n",
    "def w(T_i, R_x, a_x, b_x, c_x, d_x, l_x_Sun):\n",
    "    alpha_x_value = alpha_x(T_i, R_x, a_x, b_x, c_x, d_x)\n",
    "    return 1 / (1 + alpha_x_value * l_x_Sun**2)"
   ]
  },
  {
   "cell_type": "code",
   "execution_count": 22,
   "id": "901d34cb",
   "metadata": {},
   "outputs": [],
   "source": [
    "# Store the arrays as separate variables\n",
    "Fx = [1.0385, 0.3507]\n",
    "lx = [0.9813, 1.6882]\n",
    "ax = [1.2456e-4, 5.9578e-5]\n",
    "bx = [1.4612e-8, 1.6707e-9]\n",
    "cx = [-7.6345e-12, -3.0058e-12]\n",
    "dx = [-1.7511e-15, -5.1925e-16]"
   ]
  },
  {
   "cell_type": "code",
   "execution_count": null,
   "id": "9a51ec78",
   "metadata": {},
   "outputs": [],
   "source": []
  }
 ],
 "metadata": {
  "kernelspec": {
   "display_name": "Python 3 (ipykernel)",
   "language": "python",
   "name": "python3"
  },
  "language_info": {
   "codemirror_mode": {
    "name": "ipython",
    "version": 3
   },
   "file_extension": ".py",
   "mimetype": "text/x-python",
   "name": "python",
   "nbconvert_exporter": "python",
   "pygments_lexer": "ipython3",
   "version": "3.9.7"
  }
 },
 "nbformat": 4,
 "nbformat_minor": 5
}
